{
 "cells": [
  {
   "cell_type": "code",
   "execution_count": 119,
   "metadata": {
    "collapsed": true,
    "pycharm": {
     "name": "#%% Importing libraries\n"
    }
   },
   "outputs": [],
   "source": [
    "import os\n",
    "import pandas as pd\n",
    "from sklearn import model_selection,neighbors,linear_model,metrics"
   ]
  },
  {
   "cell_type": "code",
   "execution_count": 120,
   "outputs": [],
   "source": [
    "# Finding the folder and its files inside and reading the files to Pandas dataframe\n",
    "files_in_folder = os.listdir('EMG_data/01/')\n",
    "df1 = pd.read_csv(f'EMG_data/01/{files_in_folder[0]}', sep='\\t')\n",
    "df2 = pd.read_csv(f'EMG_data/01/{files_in_folder[1]}', sep='\\t')\n",
    "s1_data = pd.concat([df1, df2])"
   ],
   "metadata": {
    "collapsed": false,
    "pycharm": {
     "name": "#%% Importing subject 1 data\n"
    }
   }
  },
  {
   "cell_type": "code",
   "execution_count": 121,
   "outputs": [
    {
     "data": {
      "text/plain": "            channel1       channel2      channel3       channel4  \\\ncount  121170.000000  121170.000000  121170.00000  121170.000000   \nmean       -0.000008      -0.000009      -0.00001      -0.000011   \nstd         0.000135       0.000132       0.00012       0.000151   \nmin        -0.001160      -0.001130      -0.00106      -0.001120   \n25%        -0.000030      -0.000040      -0.00005      -0.000040   \n50%        -0.000010      -0.000010      -0.00001      -0.000010   \n75%         0.000010       0.000020       0.00003       0.000020   \nmax         0.001270       0.001270       0.00127       0.001270   \n\n            channel5       channel6       channel7       channel8  \ncount  121170.000000  121170.000000  121170.000000  121170.000000  \nmean       -0.000014      -0.000012      -0.000010      -0.000009  \nstd         0.000193       0.000148       0.000121       0.000133  \nmin        -0.001280      -0.001120      -0.001090      -0.001020  \n25%        -0.000040      -0.000040      -0.000030      -0.000030  \n50%        -0.000010      -0.000010      -0.000010      -0.000010  \n75%         0.000010       0.000010       0.000010       0.000010  \nmax         0.001270       0.001270       0.001270       0.001270  ",
      "text/html": "<div>\n<style scoped>\n    .dataframe tbody tr th:only-of-type {\n        vertical-align: middle;\n    }\n\n    .dataframe tbody tr th {\n        vertical-align: top;\n    }\n\n    .dataframe thead th {\n        text-align: right;\n    }\n</style>\n<table border=\"1\" class=\"dataframe\">\n  <thead>\n    <tr style=\"text-align: right;\">\n      <th></th>\n      <th>channel1</th>\n      <th>channel2</th>\n      <th>channel3</th>\n      <th>channel4</th>\n      <th>channel5</th>\n      <th>channel6</th>\n      <th>channel7</th>\n      <th>channel8</th>\n    </tr>\n  </thead>\n  <tbody>\n    <tr>\n      <th>count</th>\n      <td>121170.000000</td>\n      <td>121170.000000</td>\n      <td>121170.00000</td>\n      <td>121170.000000</td>\n      <td>121170.000000</td>\n      <td>121170.000000</td>\n      <td>121170.000000</td>\n      <td>121170.000000</td>\n    </tr>\n    <tr>\n      <th>mean</th>\n      <td>-0.000008</td>\n      <td>-0.000009</td>\n      <td>-0.00001</td>\n      <td>-0.000011</td>\n      <td>-0.000014</td>\n      <td>-0.000012</td>\n      <td>-0.000010</td>\n      <td>-0.000009</td>\n    </tr>\n    <tr>\n      <th>std</th>\n      <td>0.000135</td>\n      <td>0.000132</td>\n      <td>0.00012</td>\n      <td>0.000151</td>\n      <td>0.000193</td>\n      <td>0.000148</td>\n      <td>0.000121</td>\n      <td>0.000133</td>\n    </tr>\n    <tr>\n      <th>min</th>\n      <td>-0.001160</td>\n      <td>-0.001130</td>\n      <td>-0.00106</td>\n      <td>-0.001120</td>\n      <td>-0.001280</td>\n      <td>-0.001120</td>\n      <td>-0.001090</td>\n      <td>-0.001020</td>\n    </tr>\n    <tr>\n      <th>25%</th>\n      <td>-0.000030</td>\n      <td>-0.000040</td>\n      <td>-0.00005</td>\n      <td>-0.000040</td>\n      <td>-0.000040</td>\n      <td>-0.000040</td>\n      <td>-0.000030</td>\n      <td>-0.000030</td>\n    </tr>\n    <tr>\n      <th>50%</th>\n      <td>-0.000010</td>\n      <td>-0.000010</td>\n      <td>-0.00001</td>\n      <td>-0.000010</td>\n      <td>-0.000010</td>\n      <td>-0.000010</td>\n      <td>-0.000010</td>\n      <td>-0.000010</td>\n    </tr>\n    <tr>\n      <th>75%</th>\n      <td>0.000010</td>\n      <td>0.000020</td>\n      <td>0.00003</td>\n      <td>0.000020</td>\n      <td>0.000010</td>\n      <td>0.000010</td>\n      <td>0.000010</td>\n      <td>0.000010</td>\n    </tr>\n    <tr>\n      <th>max</th>\n      <td>0.001270</td>\n      <td>0.001270</td>\n      <td>0.00127</td>\n      <td>0.001270</td>\n      <td>0.001270</td>\n      <td>0.001270</td>\n      <td>0.001270</td>\n      <td>0.001270</td>\n    </tr>\n  </tbody>\n</table>\n</div>"
     },
     "execution_count": 121,
     "metadata": {},
     "output_type": "execute_result"
    }
   ],
   "source": [
    "# Creating dataframe for features by leaving only channels' columns, thereby dropping 'class' and 'time'\n",
    "X = s1_data.drop(columns=['class','time'])\n",
    "\n",
    "# Creating dataframe for labels by leaving only the 'class' column\n",
    "y = s1_data['class']\n",
    "\n",
    "# Splitting up the data for training and test set in the usual 80/20 split\n",
    "X_train, X_test, y_train, y_test = model_selection.train_test_split(X,y,test_size=0.2)\n",
    "\n",
    "# Normalization was not needed as it did not change significantly the final scores\n",
    "# Mean+std and min/max values are in the same range per each channel\n",
    "X.describe()"
   ],
   "metadata": {
    "collapsed": false,
    "pycharm": {
     "name": "#%% Data pre-processing\n"
    }
   }
  },
  {
   "cell_type": "code",
   "execution_count": 122,
   "outputs": [
    {
     "name": "stdout",
     "output_type": "stream",
     "text": [
      "Logistic regression accuracy: 0.650862\n",
      "KNN accuracy: 0.981596\n",
      "KNN prediction precision: 0.981624\n"
     ]
    }
   ],
   "source": [
    "# CONCLUSION:\n",
    "# Logistic regression produced a low accuracy of ~64% but K-nearest neighbors ~98%.\n",
    "# LR is linear but KNN supports non-linear solutions but is slower.\n",
    "# In this case of 8 channels the classification is definitely non-linear, so KNN is better option.\n",
    "\n",
    "# Logistic regression for multi-class classification\n",
    "lm = linear_model.LogisticRegression(multi_class='multinomial',solver='newton-cg',max_iter=1000)\n",
    "lm = lm.fit(X_train, y_train)\n",
    "\n",
    "# K-nearest neighbors with n-neighbors chosen to give the best accuracy and precision for this exercise\n",
    "knn = neighbors.KNeighborsClassifier(n_neighbors=1)\n",
    "knn = knn.fit(X_train, y_train)\n",
    "\n",
    "# Comparison of accuracies for the two methods\n",
    "print(\"Logistic regression accuracy: %f\" % lm.score(X_test, y_test))\n",
    "print(\"KNN accuracy: %f\" % knn.score(X_test, y_test))\n",
    "\n",
    "# Predicting the labels using KNN model and calculating precision of the classification\n",
    "y_test_predict = knn.predict(X_test)\n",
    "print('KNN prediction precision: %f' % round(metrics.precision_score(y_test,y_test_predict,average='weighted'),6))"
   ],
   "metadata": {
    "collapsed": false,
    "pycharm": {
     "name": "#%% Applying machine learning methods\n"
    }
   }
  },
  {
   "cell_type": "code",
   "execution_count": 123,
   "outputs": [
    {
     "name": "stdout",
     "output_type": "stream",
     "text": [
      "KNN prediction accuracy for subject 3: 0.994074\n",
      "KNN prediction precision for subject 3: 0.994082\n"
     ]
    }
   ],
   "source": [
    "# CONCLUSION:\n",
    "# Both accuracy and precision are over 99% when the same trained model was used on subject 3 data\n",
    "# I would say that KNN works great in this exercise and logistic regression is just not enough\n",
    "\n",
    "# Creating features and labels dataframes for subject 3\n",
    "files_in_folder = os.listdir('EMG_data/03/')\n",
    "df1 = pd.read_csv(f'EMG_data/03/{files_in_folder[0]}', sep='\\t')\n",
    "df2 = pd.read_csv(f'EMG_data/03/{files_in_folder[1]}', sep='\\t')\n",
    "s3_data = pd.concat([df1, df2])\n",
    "X_3 = s1_data.drop(columns=['class','time'])\n",
    "y_3 = s1_data['class']\n",
    "\n",
    "# Using KNN model created with subject 1 data to predict labels for subject 3\n",
    "y_3_predict = knn.predict(X_3)\n",
    "\n",
    "# Finding accuracy and precision of the classification\n",
    "print('KNN prediction accuracy for subject 3: %f' % round(metrics.accuracy_score(y_3,y_3_predict),6))\n",
    "print('KNN prediction precision for subject 3: %f' % round(metrics.precision_score(y_3,y_3_predict,average='weighted'),6))"
   ],
   "metadata": {
    "collapsed": false,
    "pycharm": {
     "name": "#%% Using subject 3 data to test KNN model accuracy and precision\n"
    }
   }
  }
 ],
 "metadata": {
  "kernelspec": {
   "display_name": "Python 3",
   "language": "python",
   "name": "python3"
  },
  "language_info": {
   "codemirror_mode": {
    "name": "ipython",
    "version": 2
   },
   "file_extension": ".py",
   "mimetype": "text/x-python",
   "name": "python",
   "nbconvert_exporter": "python",
   "pygments_lexer": "ipython2",
   "version": "2.7.6"
  }
 },
 "nbformat": 4,
 "nbformat_minor": 0
}